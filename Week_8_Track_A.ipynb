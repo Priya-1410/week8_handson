{
  "nbformat": 4,
  "nbformat_minor": 0,
  "metadata": {
    "colab": {
      "provenance": [],
      "gpuType": "A100"
    },
    "kernelspec": {
      "name": "python3",
      "display_name": "Python 3"
    },
    "language_info": {
      "name": "python"
    },
    "accelerator": "GPU",
    "widgets": {
      "application/vnd.jupyter.widget-state+json": {
        "4c0ec3ff5f2d4f58b0d85c0451604127": {
          "model_module": "@jupyter-widgets/controls",
          "model_name": "HBoxModel",
          "model_module_version": "1.5.0",
          "state": {
            "_dom_classes": [],
            "_model_module": "@jupyter-widgets/controls",
            "_model_module_version": "1.5.0",
            "_model_name": "HBoxModel",
            "_view_count": null,
            "_view_module": "@jupyter-widgets/controls",
            "_view_module_version": "1.5.0",
            "_view_name": "HBoxView",
            "box_style": "",
            "children": [
              "IPY_MODEL_0c4e942d91214a03947edd6f29c04113",
              "IPY_MODEL_1ba893d8e1fb471ca3dd97cf1c200033",
              "IPY_MODEL_c9072e87f260402dbee8b785709e6a6f"
            ],
            "layout": "IPY_MODEL_667b5cced9eb43b88907120c3a06f0a7"
          }
        },
        "0c4e942d91214a03947edd6f29c04113": {
          "model_module": "@jupyter-widgets/controls",
          "model_name": "HTMLModel",
          "model_module_version": "1.5.0",
          "state": {
            "_dom_classes": [],
            "_model_module": "@jupyter-widgets/controls",
            "_model_module_version": "1.5.0",
            "_model_name": "HTMLModel",
            "_view_count": null,
            "_view_module": "@jupyter-widgets/controls",
            "_view_module_version": "1.5.0",
            "_view_name": "HTMLView",
            "description": "",
            "description_tooltip": null,
            "layout": "IPY_MODEL_95444f16daa449b5991b8f9998dbeab1",
            "placeholder": "​",
            "style": "IPY_MODEL_6ff0f7b356a64d62a7f1085e707ea5bf",
            "value": "config.json: 100%"
          }
        },
        "1ba893d8e1fb471ca3dd97cf1c200033": {
          "model_module": "@jupyter-widgets/controls",
          "model_name": "FloatProgressModel",
          "model_module_version": "1.5.0",
          "state": {
            "_dom_classes": [],
            "_model_module": "@jupyter-widgets/controls",
            "_model_module_version": "1.5.0",
            "_model_name": "FloatProgressModel",
            "_view_count": null,
            "_view_module": "@jupyter-widgets/controls",
            "_view_module_version": "1.5.0",
            "_view_name": "ProgressView",
            "bar_style": "success",
            "description": "",
            "description_tooltip": null,
            "layout": "IPY_MODEL_ad2fb226e20546ee8ea0f3ad97614d59",
            "max": 629,
            "min": 0,
            "orientation": "horizontal",
            "style": "IPY_MODEL_4273fa7953e34e38b25a484ccb9400df",
            "value": 629
          }
        },
        "c9072e87f260402dbee8b785709e6a6f": {
          "model_module": "@jupyter-widgets/controls",
          "model_name": "HTMLModel",
          "model_module_version": "1.5.0",
          "state": {
            "_dom_classes": [],
            "_model_module": "@jupyter-widgets/controls",
            "_model_module_version": "1.5.0",
            "_model_name": "HTMLModel",
            "_view_count": null,
            "_view_module": "@jupyter-widgets/controls",
            "_view_module_version": "1.5.0",
            "_view_name": "HTMLView",
            "description": "",
            "description_tooltip": null,
            "layout": "IPY_MODEL_a233aea646a24226978c4a68920cef87",
            "placeholder": "​",
            "style": "IPY_MODEL_e09c506365f741f2b58568742d5d9978",
            "value": " 629/629 [00:00&lt;00:00, 87.2kB/s]"
          }
        },
        "667b5cced9eb43b88907120c3a06f0a7": {
          "model_module": "@jupyter-widgets/base",
          "model_name": "LayoutModel",
          "model_module_version": "1.2.0",
          "state": {
            "_model_module": "@jupyter-widgets/base",
            "_model_module_version": "1.2.0",
            "_model_name": "LayoutModel",
            "_view_count": null,
            "_view_module": "@jupyter-widgets/base",
            "_view_module_version": "1.2.0",
            "_view_name": "LayoutView",
            "align_content": null,
            "align_items": null,
            "align_self": null,
            "border": null,
            "bottom": null,
            "display": null,
            "flex": null,
            "flex_flow": null,
            "grid_area": null,
            "grid_auto_columns": null,
            "grid_auto_flow": null,
            "grid_auto_rows": null,
            "grid_column": null,
            "grid_gap": null,
            "grid_row": null,
            "grid_template_areas": null,
            "grid_template_columns": null,
            "grid_template_rows": null,
            "height": null,
            "justify_content": null,
            "justify_items": null,
            "left": null,
            "margin": null,
            "max_height": null,
            "max_width": null,
            "min_height": null,
            "min_width": null,
            "object_fit": null,
            "object_position": null,
            "order": null,
            "overflow": null,
            "overflow_x": null,
            "overflow_y": null,
            "padding": null,
            "right": null,
            "top": null,
            "visibility": null,
            "width": null
          }
        },
        "95444f16daa449b5991b8f9998dbeab1": {
          "model_module": "@jupyter-widgets/base",
          "model_name": "LayoutModel",
          "model_module_version": "1.2.0",
          "state": {
            "_model_module": "@jupyter-widgets/base",
            "_model_module_version": "1.2.0",
            "_model_name": "LayoutModel",
            "_view_count": null,
            "_view_module": "@jupyter-widgets/base",
            "_view_module_version": "1.2.0",
            "_view_name": "LayoutView",
            "align_content": null,
            "align_items": null,
            "align_self": null,
            "border": null,
            "bottom": null,
            "display": null,
            "flex": null,
            "flex_flow": null,
            "grid_area": null,
            "grid_auto_columns": null,
            "grid_auto_flow": null,
            "grid_auto_rows": null,
            "grid_column": null,
            "grid_gap": null,
            "grid_row": null,
            "grid_template_areas": null,
            "grid_template_columns": null,
            "grid_template_rows": null,
            "height": null,
            "justify_content": null,
            "justify_items": null,
            "left": null,
            "margin": null,
            "max_height": null,
            "max_width": null,
            "min_height": null,
            "min_width": null,
            "object_fit": null,
            "object_position": null,
            "order": null,
            "overflow": null,
            "overflow_x": null,
            "overflow_y": null,
            "padding": null,
            "right": null,
            "top": null,
            "visibility": null,
            "width": null
          }
        },
        "6ff0f7b356a64d62a7f1085e707ea5bf": {
          "model_module": "@jupyter-widgets/controls",
          "model_name": "DescriptionStyleModel",
          "model_module_version": "1.5.0",
          "state": {
            "_model_module": "@jupyter-widgets/controls",
            "_model_module_version": "1.5.0",
            "_model_name": "DescriptionStyleModel",
            "_view_count": null,
            "_view_module": "@jupyter-widgets/base",
            "_view_module_version": "1.2.0",
            "_view_name": "StyleView",
            "description_width": ""
          }
        },
        "ad2fb226e20546ee8ea0f3ad97614d59": {
          "model_module": "@jupyter-widgets/base",
          "model_name": "LayoutModel",
          "model_module_version": "1.2.0",
          "state": {
            "_model_module": "@jupyter-widgets/base",
            "_model_module_version": "1.2.0",
            "_model_name": "LayoutModel",
            "_view_count": null,
            "_view_module": "@jupyter-widgets/base",
            "_view_module_version": "1.2.0",
            "_view_name": "LayoutView",
            "align_content": null,
            "align_items": null,
            "align_self": null,
            "border": null,
            "bottom": null,
            "display": null,
            "flex": null,
            "flex_flow": null,
            "grid_area": null,
            "grid_auto_columns": null,
            "grid_auto_flow": null,
            "grid_auto_rows": null,
            "grid_column": null,
            "grid_gap": null,
            "grid_row": null,
            "grid_template_areas": null,
            "grid_template_columns": null,
            "grid_template_rows": null,
            "height": null,
            "justify_content": null,
            "justify_items": null,
            "left": null,
            "margin": null,
            "max_height": null,
            "max_width": null,
            "min_height": null,
            "min_width": null,
            "object_fit": null,
            "object_position": null,
            "order": null,
            "overflow": null,
            "overflow_x": null,
            "overflow_y": null,
            "padding": null,
            "right": null,
            "top": null,
            "visibility": null,
            "width": null
          }
        },
        "4273fa7953e34e38b25a484ccb9400df": {
          "model_module": "@jupyter-widgets/controls",
          "model_name": "ProgressStyleModel",
          "model_module_version": "1.5.0",
          "state": {
            "_model_module": "@jupyter-widgets/controls",
            "_model_module_version": "1.5.0",
            "_model_name": "ProgressStyleModel",
            "_view_count": null,
            "_view_module": "@jupyter-widgets/base",
            "_view_module_version": "1.2.0",
            "_view_name": "StyleView",
            "bar_color": null,
            "description_width": ""
          }
        },
        "a233aea646a24226978c4a68920cef87": {
          "model_module": "@jupyter-widgets/base",
          "model_name": "LayoutModel",
          "model_module_version": "1.2.0",
          "state": {
            "_model_module": "@jupyter-widgets/base",
            "_model_module_version": "1.2.0",
            "_model_name": "LayoutModel",
            "_view_count": null,
            "_view_module": "@jupyter-widgets/base",
            "_view_module_version": "1.2.0",
            "_view_name": "LayoutView",
            "align_content": null,
            "align_items": null,
            "align_self": null,
            "border": null,
            "bottom": null,
            "display": null,
            "flex": null,
            "flex_flow": null,
            "grid_area": null,
            "grid_auto_columns": null,
            "grid_auto_flow": null,
            "grid_auto_rows": null,
            "grid_column": null,
            "grid_gap": null,
            "grid_row": null,
            "grid_template_areas": null,
            "grid_template_columns": null,
            "grid_template_rows": null,
            "height": null,
            "justify_content": null,
            "justify_items": null,
            "left": null,
            "margin": null,
            "max_height": null,
            "max_width": null,
            "min_height": null,
            "min_width": null,
            "object_fit": null,
            "object_position": null,
            "order": null,
            "overflow": null,
            "overflow_x": null,
            "overflow_y": null,
            "padding": null,
            "right": null,
            "top": null,
            "visibility": null,
            "width": null
          }
        },
        "e09c506365f741f2b58568742d5d9978": {
          "model_module": "@jupyter-widgets/controls",
          "model_name": "DescriptionStyleModel",
          "model_module_version": "1.5.0",
          "state": {
            "_model_module": "@jupyter-widgets/controls",
            "_model_module_version": "1.5.0",
            "_model_name": "DescriptionStyleModel",
            "_view_count": null,
            "_view_module": "@jupyter-widgets/base",
            "_view_module_version": "1.2.0",
            "_view_name": "StyleView",
            "description_width": ""
          }
        },
        "2d3b93f2e97341b1909dc3986c50cd0b": {
          "model_module": "@jupyter-widgets/controls",
          "model_name": "HBoxModel",
          "model_module_version": "1.5.0",
          "state": {
            "_dom_classes": [],
            "_model_module": "@jupyter-widgets/controls",
            "_model_module_version": "1.5.0",
            "_model_name": "HBoxModel",
            "_view_count": null,
            "_view_module": "@jupyter-widgets/controls",
            "_view_module_version": "1.5.0",
            "_view_name": "HBoxView",
            "box_style": "",
            "children": [
              "IPY_MODEL_ca8f6c8366c3438d87ef6d787cef7202",
              "IPY_MODEL_49e10be6233c486a86a88bd5298b353e",
              "IPY_MODEL_24b3118f59834b30b5864dd0e3b60958"
            ],
            "layout": "IPY_MODEL_24881e07e50748fd91d17543b73786fb"
          }
        },
        "ca8f6c8366c3438d87ef6d787cef7202": {
          "model_module": "@jupyter-widgets/controls",
          "model_name": "HTMLModel",
          "model_module_version": "1.5.0",
          "state": {
            "_dom_classes": [],
            "_model_module": "@jupyter-widgets/controls",
            "_model_module_version": "1.5.0",
            "_model_name": "HTMLModel",
            "_view_count": null,
            "_view_module": "@jupyter-widgets/controls",
            "_view_module_version": "1.5.0",
            "_view_name": "HTMLView",
            "description": "",
            "description_tooltip": null,
            "layout": "IPY_MODEL_a40f758e21774f33949f39d5ce6c670d",
            "placeholder": "​",
            "style": "IPY_MODEL_3bc73aa54d3c46c4b4029d807f5efb46",
            "value": "model.safetensors: 100%"
          }
        },
        "49e10be6233c486a86a88bd5298b353e": {
          "model_module": "@jupyter-widgets/controls",
          "model_name": "FloatProgressModel",
          "model_module_version": "1.5.0",
          "state": {
            "_dom_classes": [],
            "_model_module": "@jupyter-widgets/controls",
            "_model_module_version": "1.5.0",
            "_model_name": "FloatProgressModel",
            "_view_count": null,
            "_view_module": "@jupyter-widgets/controls",
            "_view_module_version": "1.5.0",
            "_view_name": "ProgressView",
            "bar_style": "success",
            "description": "",
            "description_tooltip": null,
            "layout": "IPY_MODEL_dda9753408914a79ba70e008ca3ca20b",
            "max": 267832558,
            "min": 0,
            "orientation": "horizontal",
            "style": "IPY_MODEL_8578743d85ae4d6986b4bb45f70b2489",
            "value": 267832558
          }
        },
        "24b3118f59834b30b5864dd0e3b60958": {
          "model_module": "@jupyter-widgets/controls",
          "model_name": "HTMLModel",
          "model_module_version": "1.5.0",
          "state": {
            "_dom_classes": [],
            "_model_module": "@jupyter-widgets/controls",
            "_model_module_version": "1.5.0",
            "_model_name": "HTMLModel",
            "_view_count": null,
            "_view_module": "@jupyter-widgets/controls",
            "_view_module_version": "1.5.0",
            "_view_name": "HTMLView",
            "description": "",
            "description_tooltip": null,
            "layout": "IPY_MODEL_d09e03a6c30c488eab0a055fd60896c1",
            "placeholder": "​",
            "style": "IPY_MODEL_15d2c976d3374698a2ca0a3e6580166d",
            "value": " 268M/268M [00:01&lt;00:00, 40.5MB/s]"
          }
        },
        "24881e07e50748fd91d17543b73786fb": {
          "model_module": "@jupyter-widgets/base",
          "model_name": "LayoutModel",
          "model_module_version": "1.2.0",
          "state": {
            "_model_module": "@jupyter-widgets/base",
            "_model_module_version": "1.2.0",
            "_model_name": "LayoutModel",
            "_view_count": null,
            "_view_module": "@jupyter-widgets/base",
            "_view_module_version": "1.2.0",
            "_view_name": "LayoutView",
            "align_content": null,
            "align_items": null,
            "align_self": null,
            "border": null,
            "bottom": null,
            "display": null,
            "flex": null,
            "flex_flow": null,
            "grid_area": null,
            "grid_auto_columns": null,
            "grid_auto_flow": null,
            "grid_auto_rows": null,
            "grid_column": null,
            "grid_gap": null,
            "grid_row": null,
            "grid_template_areas": null,
            "grid_template_columns": null,
            "grid_template_rows": null,
            "height": null,
            "justify_content": null,
            "justify_items": null,
            "left": null,
            "margin": null,
            "max_height": null,
            "max_width": null,
            "min_height": null,
            "min_width": null,
            "object_fit": null,
            "object_position": null,
            "order": null,
            "overflow": null,
            "overflow_x": null,
            "overflow_y": null,
            "padding": null,
            "right": null,
            "top": null,
            "visibility": null,
            "width": null
          }
        },
        "a40f758e21774f33949f39d5ce6c670d": {
          "model_module": "@jupyter-widgets/base",
          "model_name": "LayoutModel",
          "model_module_version": "1.2.0",
          "state": {
            "_model_module": "@jupyter-widgets/base",
            "_model_module_version": "1.2.0",
            "_model_name": "LayoutModel",
            "_view_count": null,
            "_view_module": "@jupyter-widgets/base",
            "_view_module_version": "1.2.0",
            "_view_name": "LayoutView",
            "align_content": null,
            "align_items": null,
            "align_self": null,
            "border": null,
            "bottom": null,
            "display": null,
            "flex": null,
            "flex_flow": null,
            "grid_area": null,
            "grid_auto_columns": null,
            "grid_auto_flow": null,
            "grid_auto_rows": null,
            "grid_column": null,
            "grid_gap": null,
            "grid_row": null,
            "grid_template_areas": null,
            "grid_template_columns": null,
            "grid_template_rows": null,
            "height": null,
            "justify_content": null,
            "justify_items": null,
            "left": null,
            "margin": null,
            "max_height": null,
            "max_width": null,
            "min_height": null,
            "min_width": null,
            "object_fit": null,
            "object_position": null,
            "order": null,
            "overflow": null,
            "overflow_x": null,
            "overflow_y": null,
            "padding": null,
            "right": null,
            "top": null,
            "visibility": null,
            "width": null
          }
        },
        "3bc73aa54d3c46c4b4029d807f5efb46": {
          "model_module": "@jupyter-widgets/controls",
          "model_name": "DescriptionStyleModel",
          "model_module_version": "1.5.0",
          "state": {
            "_model_module": "@jupyter-widgets/controls",
            "_model_module_version": "1.5.0",
            "_model_name": "DescriptionStyleModel",
            "_view_count": null,
            "_view_module": "@jupyter-widgets/base",
            "_view_module_version": "1.2.0",
            "_view_name": "StyleView",
            "description_width": ""
          }
        },
        "dda9753408914a79ba70e008ca3ca20b": {
          "model_module": "@jupyter-widgets/base",
          "model_name": "LayoutModel",
          "model_module_version": "1.2.0",
          "state": {
            "_model_module": "@jupyter-widgets/base",
            "_model_module_version": "1.2.0",
            "_model_name": "LayoutModel",
            "_view_count": null,
            "_view_module": "@jupyter-widgets/base",
            "_view_module_version": "1.2.0",
            "_view_name": "LayoutView",
            "align_content": null,
            "align_items": null,
            "align_self": null,
            "border": null,
            "bottom": null,
            "display": null,
            "flex": null,
            "flex_flow": null,
            "grid_area": null,
            "grid_auto_columns": null,
            "grid_auto_flow": null,
            "grid_auto_rows": null,
            "grid_column": null,
            "grid_gap": null,
            "grid_row": null,
            "grid_template_areas": null,
            "grid_template_columns": null,
            "grid_template_rows": null,
            "height": null,
            "justify_content": null,
            "justify_items": null,
            "left": null,
            "margin": null,
            "max_height": null,
            "max_width": null,
            "min_height": null,
            "min_width": null,
            "object_fit": null,
            "object_position": null,
            "order": null,
            "overflow": null,
            "overflow_x": null,
            "overflow_y": null,
            "padding": null,
            "right": null,
            "top": null,
            "visibility": null,
            "width": null
          }
        },
        "8578743d85ae4d6986b4bb45f70b2489": {
          "model_module": "@jupyter-widgets/controls",
          "model_name": "ProgressStyleModel",
          "model_module_version": "1.5.0",
          "state": {
            "_model_module": "@jupyter-widgets/controls",
            "_model_module_version": "1.5.0",
            "_model_name": "ProgressStyleModel",
            "_view_count": null,
            "_view_module": "@jupyter-widgets/base",
            "_view_module_version": "1.2.0",
            "_view_name": "StyleView",
            "bar_color": null,
            "description_width": ""
          }
        },
        "d09e03a6c30c488eab0a055fd60896c1": {
          "model_module": "@jupyter-widgets/base",
          "model_name": "LayoutModel",
          "model_module_version": "1.2.0",
          "state": {
            "_model_module": "@jupyter-widgets/base",
            "_model_module_version": "1.2.0",
            "_model_name": "LayoutModel",
            "_view_count": null,
            "_view_module": "@jupyter-widgets/base",
            "_view_module_version": "1.2.0",
            "_view_name": "LayoutView",
            "align_content": null,
            "align_items": null,
            "align_self": null,
            "border": null,
            "bottom": null,
            "display": null,
            "flex": null,
            "flex_flow": null,
            "grid_area": null,
            "grid_auto_columns": null,
            "grid_auto_flow": null,
            "grid_auto_rows": null,
            "grid_column": null,
            "grid_gap": null,
            "grid_row": null,
            "grid_template_areas": null,
            "grid_template_columns": null,
            "grid_template_rows": null,
            "height": null,
            "justify_content": null,
            "justify_items": null,
            "left": null,
            "margin": null,
            "max_height": null,
            "max_width": null,
            "min_height": null,
            "min_width": null,
            "object_fit": null,
            "object_position": null,
            "order": null,
            "overflow": null,
            "overflow_x": null,
            "overflow_y": null,
            "padding": null,
            "right": null,
            "top": null,
            "visibility": null,
            "width": null
          }
        },
        "15d2c976d3374698a2ca0a3e6580166d": {
          "model_module": "@jupyter-widgets/controls",
          "model_name": "DescriptionStyleModel",
          "model_module_version": "1.5.0",
          "state": {
            "_model_module": "@jupyter-widgets/controls",
            "_model_module_version": "1.5.0",
            "_model_name": "DescriptionStyleModel",
            "_view_count": null,
            "_view_module": "@jupyter-widgets/base",
            "_view_module_version": "1.2.0",
            "_view_name": "StyleView",
            "description_width": ""
          }
        },
        "b2dab32278864b40a9946d01e943367d": {
          "model_module": "@jupyter-widgets/controls",
          "model_name": "HBoxModel",
          "model_module_version": "1.5.0",
          "state": {
            "_dom_classes": [],
            "_model_module": "@jupyter-widgets/controls",
            "_model_module_version": "1.5.0",
            "_model_name": "HBoxModel",
            "_view_count": null,
            "_view_module": "@jupyter-widgets/controls",
            "_view_module_version": "1.5.0",
            "_view_name": "HBoxView",
            "box_style": "",
            "children": [
              "IPY_MODEL_b563bd31b8274abfb97aa3deb481bca5",
              "IPY_MODEL_929fd40a079f4d15b7cf07fafdc95d46",
              "IPY_MODEL_1f313fef3f134de39dbbaae587896459"
            ],
            "layout": "IPY_MODEL_52f250c0b0424a85a135b18e21b9c929"
          }
        },
        "b563bd31b8274abfb97aa3deb481bca5": {
          "model_module": "@jupyter-widgets/controls",
          "model_name": "HTMLModel",
          "model_module_version": "1.5.0",
          "state": {
            "_dom_classes": [],
            "_model_module": "@jupyter-widgets/controls",
            "_model_module_version": "1.5.0",
            "_model_name": "HTMLModel",
            "_view_count": null,
            "_view_module": "@jupyter-widgets/controls",
            "_view_module_version": "1.5.0",
            "_view_name": "HTMLView",
            "description": "",
            "description_tooltip": null,
            "layout": "IPY_MODEL_e7e4fc15089742f9aa1c2e28f66357ba",
            "placeholder": "​",
            "style": "IPY_MODEL_8a4d6d6eb0f14072813ba8da84df9837",
            "value": "tokenizer_config.json: 100%"
          }
        },
        "929fd40a079f4d15b7cf07fafdc95d46": {
          "model_module": "@jupyter-widgets/controls",
          "model_name": "FloatProgressModel",
          "model_module_version": "1.5.0",
          "state": {
            "_dom_classes": [],
            "_model_module": "@jupyter-widgets/controls",
            "_model_module_version": "1.5.0",
            "_model_name": "FloatProgressModel",
            "_view_count": null,
            "_view_module": "@jupyter-widgets/controls",
            "_view_module_version": "1.5.0",
            "_view_name": "ProgressView",
            "bar_style": "success",
            "description": "",
            "description_tooltip": null,
            "layout": "IPY_MODEL_28ccb8c2e264429b9e55cca38adc06f9",
            "max": 48,
            "min": 0,
            "orientation": "horizontal",
            "style": "IPY_MODEL_ed2f210fd3fe4267bb820651ef09bfe9",
            "value": 48
          }
        },
        "1f313fef3f134de39dbbaae587896459": {
          "model_module": "@jupyter-widgets/controls",
          "model_name": "HTMLModel",
          "model_module_version": "1.5.0",
          "state": {
            "_dom_classes": [],
            "_model_module": "@jupyter-widgets/controls",
            "_model_module_version": "1.5.0",
            "_model_name": "HTMLModel",
            "_view_count": null,
            "_view_module": "@jupyter-widgets/controls",
            "_view_module_version": "1.5.0",
            "_view_name": "HTMLView",
            "description": "",
            "description_tooltip": null,
            "layout": "IPY_MODEL_3a80693e92e7419e95f3e8fe234115aa",
            "placeholder": "​",
            "style": "IPY_MODEL_afb945e41390415a9067ce22eeb84f92",
            "value": " 48.0/48.0 [00:00&lt;00:00, 6.43kB/s]"
          }
        },
        "52f250c0b0424a85a135b18e21b9c929": {
          "model_module": "@jupyter-widgets/base",
          "model_name": "LayoutModel",
          "model_module_version": "1.2.0",
          "state": {
            "_model_module": "@jupyter-widgets/base",
            "_model_module_version": "1.2.0",
            "_model_name": "LayoutModel",
            "_view_count": null,
            "_view_module": "@jupyter-widgets/base",
            "_view_module_version": "1.2.0",
            "_view_name": "LayoutView",
            "align_content": null,
            "align_items": null,
            "align_self": null,
            "border": null,
            "bottom": null,
            "display": null,
            "flex": null,
            "flex_flow": null,
            "grid_area": null,
            "grid_auto_columns": null,
            "grid_auto_flow": null,
            "grid_auto_rows": null,
            "grid_column": null,
            "grid_gap": null,
            "grid_row": null,
            "grid_template_areas": null,
            "grid_template_columns": null,
            "grid_template_rows": null,
            "height": null,
            "justify_content": null,
            "justify_items": null,
            "left": null,
            "margin": null,
            "max_height": null,
            "max_width": null,
            "min_height": null,
            "min_width": null,
            "object_fit": null,
            "object_position": null,
            "order": null,
            "overflow": null,
            "overflow_x": null,
            "overflow_y": null,
            "padding": null,
            "right": null,
            "top": null,
            "visibility": null,
            "width": null
          }
        },
        "e7e4fc15089742f9aa1c2e28f66357ba": {
          "model_module": "@jupyter-widgets/base",
          "model_name": "LayoutModel",
          "model_module_version": "1.2.0",
          "state": {
            "_model_module": "@jupyter-widgets/base",
            "_model_module_version": "1.2.0",
            "_model_name": "LayoutModel",
            "_view_count": null,
            "_view_module": "@jupyter-widgets/base",
            "_view_module_version": "1.2.0",
            "_view_name": "LayoutView",
            "align_content": null,
            "align_items": null,
            "align_self": null,
            "border": null,
            "bottom": null,
            "display": null,
            "flex": null,
            "flex_flow": null,
            "grid_area": null,
            "grid_auto_columns": null,
            "grid_auto_flow": null,
            "grid_auto_rows": null,
            "grid_column": null,
            "grid_gap": null,
            "grid_row": null,
            "grid_template_areas": null,
            "grid_template_columns": null,
            "grid_template_rows": null,
            "height": null,
            "justify_content": null,
            "justify_items": null,
            "left": null,
            "margin": null,
            "max_height": null,
            "max_width": null,
            "min_height": null,
            "min_width": null,
            "object_fit": null,
            "object_position": null,
            "order": null,
            "overflow": null,
            "overflow_x": null,
            "overflow_y": null,
            "padding": null,
            "right": null,
            "top": null,
            "visibility": null,
            "width": null
          }
        },
        "8a4d6d6eb0f14072813ba8da84df9837": {
          "model_module": "@jupyter-widgets/controls",
          "model_name": "DescriptionStyleModel",
          "model_module_version": "1.5.0",
          "state": {
            "_model_module": "@jupyter-widgets/controls",
            "_model_module_version": "1.5.0",
            "_model_name": "DescriptionStyleModel",
            "_view_count": null,
            "_view_module": "@jupyter-widgets/base",
            "_view_module_version": "1.2.0",
            "_view_name": "StyleView",
            "description_width": ""
          }
        },
        "28ccb8c2e264429b9e55cca38adc06f9": {
          "model_module": "@jupyter-widgets/base",
          "model_name": "LayoutModel",
          "model_module_version": "1.2.0",
          "state": {
            "_model_module": "@jupyter-widgets/base",
            "_model_module_version": "1.2.0",
            "_model_name": "LayoutModel",
            "_view_count": null,
            "_view_module": "@jupyter-widgets/base",
            "_view_module_version": "1.2.0",
            "_view_name": "LayoutView",
            "align_content": null,
            "align_items": null,
            "align_self": null,
            "border": null,
            "bottom": null,
            "display": null,
            "flex": null,
            "flex_flow": null,
            "grid_area": null,
            "grid_auto_columns": null,
            "grid_auto_flow": null,
            "grid_auto_rows": null,
            "grid_column": null,
            "grid_gap": null,
            "grid_row": null,
            "grid_template_areas": null,
            "grid_template_columns": null,
            "grid_template_rows": null,
            "height": null,
            "justify_content": null,
            "justify_items": null,
            "left": null,
            "margin": null,
            "max_height": null,
            "max_width": null,
            "min_height": null,
            "min_width": null,
            "object_fit": null,
            "object_position": null,
            "order": null,
            "overflow": null,
            "overflow_x": null,
            "overflow_y": null,
            "padding": null,
            "right": null,
            "top": null,
            "visibility": null,
            "width": null
          }
        },
        "ed2f210fd3fe4267bb820651ef09bfe9": {
          "model_module": "@jupyter-widgets/controls",
          "model_name": "ProgressStyleModel",
          "model_module_version": "1.5.0",
          "state": {
            "_model_module": "@jupyter-widgets/controls",
            "_model_module_version": "1.5.0",
            "_model_name": "ProgressStyleModel",
            "_view_count": null,
            "_view_module": "@jupyter-widgets/base",
            "_view_module_version": "1.2.0",
            "_view_name": "StyleView",
            "bar_color": null,
            "description_width": ""
          }
        },
        "3a80693e92e7419e95f3e8fe234115aa": {
          "model_module": "@jupyter-widgets/base",
          "model_name": "LayoutModel",
          "model_module_version": "1.2.0",
          "state": {
            "_model_module": "@jupyter-widgets/base",
            "_model_module_version": "1.2.0",
            "_model_name": "LayoutModel",
            "_view_count": null,
            "_view_module": "@jupyter-widgets/base",
            "_view_module_version": "1.2.0",
            "_view_name": "LayoutView",
            "align_content": null,
            "align_items": null,
            "align_self": null,
            "border": null,
            "bottom": null,
            "display": null,
            "flex": null,
            "flex_flow": null,
            "grid_area": null,
            "grid_auto_columns": null,
            "grid_auto_flow": null,
            "grid_auto_rows": null,
            "grid_column": null,
            "grid_gap": null,
            "grid_row": null,
            "grid_template_areas": null,
            "grid_template_columns": null,
            "grid_template_rows": null,
            "height": null,
            "justify_content": null,
            "justify_items": null,
            "left": null,
            "margin": null,
            "max_height": null,
            "max_width": null,
            "min_height": null,
            "min_width": null,
            "object_fit": null,
            "object_position": null,
            "order": null,
            "overflow": null,
            "overflow_x": null,
            "overflow_y": null,
            "padding": null,
            "right": null,
            "top": null,
            "visibility": null,
            "width": null
          }
        },
        "afb945e41390415a9067ce22eeb84f92": {
          "model_module": "@jupyter-widgets/controls",
          "model_name": "DescriptionStyleModel",
          "model_module_version": "1.5.0",
          "state": {
            "_model_module": "@jupyter-widgets/controls",
            "_model_module_version": "1.5.0",
            "_model_name": "DescriptionStyleModel",
            "_view_count": null,
            "_view_module": "@jupyter-widgets/base",
            "_view_module_version": "1.2.0",
            "_view_name": "StyleView",
            "description_width": ""
          }
        },
        "692b1ceeae3a470b9de026dc288dc64b": {
          "model_module": "@jupyter-widgets/controls",
          "model_name": "HBoxModel",
          "model_module_version": "1.5.0",
          "state": {
            "_dom_classes": [],
            "_model_module": "@jupyter-widgets/controls",
            "_model_module_version": "1.5.0",
            "_model_name": "HBoxModel",
            "_view_count": null,
            "_view_module": "@jupyter-widgets/controls",
            "_view_module_version": "1.5.0",
            "_view_name": "HBoxView",
            "box_style": "",
            "children": [
              "IPY_MODEL_97e91d32f1354e42a18aad2d4c1ce5d3",
              "IPY_MODEL_1844c56dc7cc41f0b77f7b17bc5e4dfe",
              "IPY_MODEL_d63add7ef1214203a9d376501b7122a6"
            ],
            "layout": "IPY_MODEL_10ec110f42f440e9981f8d7758b23d02"
          }
        },
        "97e91d32f1354e42a18aad2d4c1ce5d3": {
          "model_module": "@jupyter-widgets/controls",
          "model_name": "HTMLModel",
          "model_module_version": "1.5.0",
          "state": {
            "_dom_classes": [],
            "_model_module": "@jupyter-widgets/controls",
            "_model_module_version": "1.5.0",
            "_model_name": "HTMLModel",
            "_view_count": null,
            "_view_module": "@jupyter-widgets/controls",
            "_view_module_version": "1.5.0",
            "_view_name": "HTMLView",
            "description": "",
            "description_tooltip": null,
            "layout": "IPY_MODEL_b9deacc293b44d468726973ccdf52f32",
            "placeholder": "​",
            "style": "IPY_MODEL_b3113cd9c24e4a3c9f62aa4b004c57af",
            "value": "vocab.txt: "
          }
        },
        "1844c56dc7cc41f0b77f7b17bc5e4dfe": {
          "model_module": "@jupyter-widgets/controls",
          "model_name": "FloatProgressModel",
          "model_module_version": "1.5.0",
          "state": {
            "_dom_classes": [],
            "_model_module": "@jupyter-widgets/controls",
            "_model_module_version": "1.5.0",
            "_model_name": "FloatProgressModel",
            "_view_count": null,
            "_view_module": "@jupyter-widgets/controls",
            "_view_module_version": "1.5.0",
            "_view_name": "ProgressView",
            "bar_style": "success",
            "description": "",
            "description_tooltip": null,
            "layout": "IPY_MODEL_612528664f774f0b9ab8b8aff6bfc1d2",
            "max": 1,
            "min": 0,
            "orientation": "horizontal",
            "style": "IPY_MODEL_0a3a87062fe44a5cb090b63e840804a5",
            "value": 1
          }
        },
        "d63add7ef1214203a9d376501b7122a6": {
          "model_module": "@jupyter-widgets/controls",
          "model_name": "HTMLModel",
          "model_module_version": "1.5.0",
          "state": {
            "_dom_classes": [],
            "_model_module": "@jupyter-widgets/controls",
            "_model_module_version": "1.5.0",
            "_model_name": "HTMLModel",
            "_view_count": null,
            "_view_module": "@jupyter-widgets/controls",
            "_view_module_version": "1.5.0",
            "_view_name": "HTMLView",
            "description": "",
            "description_tooltip": null,
            "layout": "IPY_MODEL_8eebde2956144ee2889e44c8652dbe16",
            "placeholder": "​",
            "style": "IPY_MODEL_0f0ee69d2cb24b43a2e28f2afe0891e4",
            "value": " 232k/? [00:00&lt;00:00, 18.6MB/s]"
          }
        },
        "10ec110f42f440e9981f8d7758b23d02": {
          "model_module": "@jupyter-widgets/base",
          "model_name": "LayoutModel",
          "model_module_version": "1.2.0",
          "state": {
            "_model_module": "@jupyter-widgets/base",
            "_model_module_version": "1.2.0",
            "_model_name": "LayoutModel",
            "_view_count": null,
            "_view_module": "@jupyter-widgets/base",
            "_view_module_version": "1.2.0",
            "_view_name": "LayoutView",
            "align_content": null,
            "align_items": null,
            "align_self": null,
            "border": null,
            "bottom": null,
            "display": null,
            "flex": null,
            "flex_flow": null,
            "grid_area": null,
            "grid_auto_columns": null,
            "grid_auto_flow": null,
            "grid_auto_rows": null,
            "grid_column": null,
            "grid_gap": null,
            "grid_row": null,
            "grid_template_areas": null,
            "grid_template_columns": null,
            "grid_template_rows": null,
            "height": null,
            "justify_content": null,
            "justify_items": null,
            "left": null,
            "margin": null,
            "max_height": null,
            "max_width": null,
            "min_height": null,
            "min_width": null,
            "object_fit": null,
            "object_position": null,
            "order": null,
            "overflow": null,
            "overflow_x": null,
            "overflow_y": null,
            "padding": null,
            "right": null,
            "top": null,
            "visibility": null,
            "width": null
          }
        },
        "b9deacc293b44d468726973ccdf52f32": {
          "model_module": "@jupyter-widgets/base",
          "model_name": "LayoutModel",
          "model_module_version": "1.2.0",
          "state": {
            "_model_module": "@jupyter-widgets/base",
            "_model_module_version": "1.2.0",
            "_model_name": "LayoutModel",
            "_view_count": null,
            "_view_module": "@jupyter-widgets/base",
            "_view_module_version": "1.2.0",
            "_view_name": "LayoutView",
            "align_content": null,
            "align_items": null,
            "align_self": null,
            "border": null,
            "bottom": null,
            "display": null,
            "flex": null,
            "flex_flow": null,
            "grid_area": null,
            "grid_auto_columns": null,
            "grid_auto_flow": null,
            "grid_auto_rows": null,
            "grid_column": null,
            "grid_gap": null,
            "grid_row": null,
            "grid_template_areas": null,
            "grid_template_columns": null,
            "grid_template_rows": null,
            "height": null,
            "justify_content": null,
            "justify_items": null,
            "left": null,
            "margin": null,
            "max_height": null,
            "max_width": null,
            "min_height": null,
            "min_width": null,
            "object_fit": null,
            "object_position": null,
            "order": null,
            "overflow": null,
            "overflow_x": null,
            "overflow_y": null,
            "padding": null,
            "right": null,
            "top": null,
            "visibility": null,
            "width": null
          }
        },
        "b3113cd9c24e4a3c9f62aa4b004c57af": {
          "model_module": "@jupyter-widgets/controls",
          "model_name": "DescriptionStyleModel",
          "model_module_version": "1.5.0",
          "state": {
            "_model_module": "@jupyter-widgets/controls",
            "_model_module_version": "1.5.0",
            "_model_name": "DescriptionStyleModel",
            "_view_count": null,
            "_view_module": "@jupyter-widgets/base",
            "_view_module_version": "1.2.0",
            "_view_name": "StyleView",
            "description_width": ""
          }
        },
        "612528664f774f0b9ab8b8aff6bfc1d2": {
          "model_module": "@jupyter-widgets/base",
          "model_name": "LayoutModel",
          "model_module_version": "1.2.0",
          "state": {
            "_model_module": "@jupyter-widgets/base",
            "_model_module_version": "1.2.0",
            "_model_name": "LayoutModel",
            "_view_count": null,
            "_view_module": "@jupyter-widgets/base",
            "_view_module_version": "1.2.0",
            "_view_name": "LayoutView",
            "align_content": null,
            "align_items": null,
            "align_self": null,
            "border": null,
            "bottom": null,
            "display": null,
            "flex": null,
            "flex_flow": null,
            "grid_area": null,
            "grid_auto_columns": null,
            "grid_auto_flow": null,
            "grid_auto_rows": null,
            "grid_column": null,
            "grid_gap": null,
            "grid_row": null,
            "grid_template_areas": null,
            "grid_template_columns": null,
            "grid_template_rows": null,
            "height": null,
            "justify_content": null,
            "justify_items": null,
            "left": null,
            "margin": null,
            "max_height": null,
            "max_width": null,
            "min_height": null,
            "min_width": null,
            "object_fit": null,
            "object_position": null,
            "order": null,
            "overflow": null,
            "overflow_x": null,
            "overflow_y": null,
            "padding": null,
            "right": null,
            "top": null,
            "visibility": null,
            "width": "20px"
          }
        },
        "0a3a87062fe44a5cb090b63e840804a5": {
          "model_module": "@jupyter-widgets/controls",
          "model_name": "ProgressStyleModel",
          "model_module_version": "1.5.0",
          "state": {
            "_model_module": "@jupyter-widgets/controls",
            "_model_module_version": "1.5.0",
            "_model_name": "ProgressStyleModel",
            "_view_count": null,
            "_view_module": "@jupyter-widgets/base",
            "_view_module_version": "1.2.0",
            "_view_name": "StyleView",
            "bar_color": null,
            "description_width": ""
          }
        },
        "8eebde2956144ee2889e44c8652dbe16": {
          "model_module": "@jupyter-widgets/base",
          "model_name": "LayoutModel",
          "model_module_version": "1.2.0",
          "state": {
            "_model_module": "@jupyter-widgets/base",
            "_model_module_version": "1.2.0",
            "_model_name": "LayoutModel",
            "_view_count": null,
            "_view_module": "@jupyter-widgets/base",
            "_view_module_version": "1.2.0",
            "_view_name": "LayoutView",
            "align_content": null,
            "align_items": null,
            "align_self": null,
            "border": null,
            "bottom": null,
            "display": null,
            "flex": null,
            "flex_flow": null,
            "grid_area": null,
            "grid_auto_columns": null,
            "grid_auto_flow": null,
            "grid_auto_rows": null,
            "grid_column": null,
            "grid_gap": null,
            "grid_row": null,
            "grid_template_areas": null,
            "grid_template_columns": null,
            "grid_template_rows": null,
            "height": null,
            "justify_content": null,
            "justify_items": null,
            "left": null,
            "margin": null,
            "max_height": null,
            "max_width": null,
            "min_height": null,
            "min_width": null,
            "object_fit": null,
            "object_position": null,
            "order": null,
            "overflow": null,
            "overflow_x": null,
            "overflow_y": null,
            "padding": null,
            "right": null,
            "top": null,
            "visibility": null,
            "width": null
          }
        },
        "0f0ee69d2cb24b43a2e28f2afe0891e4": {
          "model_module": "@jupyter-widgets/controls",
          "model_name": "DescriptionStyleModel",
          "model_module_version": "1.5.0",
          "state": {
            "_model_module": "@jupyter-widgets/controls",
            "_model_module_version": "1.5.0",
            "_model_name": "DescriptionStyleModel",
            "_view_count": null,
            "_view_module": "@jupyter-widgets/base",
            "_view_module_version": "1.2.0",
            "_view_name": "StyleView",
            "description_width": ""
          }
        }
      }
    }
  },
  "cells": [
    {
      "cell_type": "code",
      "execution_count": 1,
      "metadata": {
        "colab": {
          "base_uri": "https://localhost:8080/"
        },
        "id": "VbKp2c848kyo",
        "outputId": "243909ae-1d68-4f84-af27-25743b47f82b"
      },
      "outputs": [
        {
          "output_type": "stream",
          "name": "stdout",
          "text": [
            "\u001b[?25l     \u001b[90m━━━━━━━━━━━━━━━━━━━━━━━━━━━━━━━━━━━━━━━━\u001b[0m \u001b[32m0.0/803.2 kB\u001b[0m \u001b[31m?\u001b[0m eta \u001b[36m-:--:--\u001b[0m\r\u001b[2K     \u001b[90m━━━━━━━━━━━━━━━━━━━━━━━━━━━━━━━━━━━━━━\u001b[0m \u001b[32m803.2/803.2 kB\u001b[0m \u001b[31m47.4 MB/s\u001b[0m eta \u001b[36m0:00:00\u001b[0m\n",
            "\u001b[?25h  Installing build dependencies ... \u001b[?25l\u001b[?25hdone\n",
            "  Getting requirements to build wheel ... \u001b[?25l\u001b[?25hdone\n",
            "  Preparing metadata (pyproject.toml) ... \u001b[?25l\u001b[?25hdone\n",
            "\u001b[2K   \u001b[90m━━━━━━━━━━━━━━━━━━━━━━━━━━━━━━━━━━━━━━━━\u001b[0m \u001b[32m32.9/32.9 MB\u001b[0m \u001b[31m48.6 MB/s\u001b[0m eta \u001b[36m0:00:00\u001b[0m\n",
            "\u001b[2K   \u001b[90m━━━━━━━━━━━━━━━━━━━━━━━━━━━━━━━━━━━━━━━━\u001b[0m \u001b[32m98.2/98.2 kB\u001b[0m \u001b[31m10.6 MB/s\u001b[0m eta \u001b[36m0:00:00\u001b[0m\n",
            "\u001b[?25h  Building wheel for openai-whisper (pyproject.toml) ... \u001b[?25l\u001b[?25hdone\n"
          ]
        }
      ],
      "source": [
        "# --- Install dependencies ---\n",
        "!pip -q install SpeechRecognition pydub gTTS soundfile yfinance transformers torch openai-whisper\n"
      ]
    },
    {
      "cell_type": "code",
      "source": [
        " #--- Imports ---\n",
        "import os, io, time, random, datetime, re\n",
        "from typing import Optional\n",
        "import yfinance as yf\n",
        "import pandas as pd\n",
        "from transformers import pipeline"
      ],
      "metadata": {
        "id": "P6BZK8KV8xyb"
      },
      "execution_count": 2,
      "outputs": []
    },
    {
      "cell_type": "markdown",
      "source": [
        "# ================================================================\n",
        "# 1️⃣  Load / Record Audio\n",
        "# ================================================================\n"
      ],
      "metadata": {
        "id": "FeGMysuz9Gsd"
      }
    },
    {
      "cell_type": "code",
      "source": [
        "AUDIO_PATH = \"/content/drive/MyDrive/myquestion.wav\"  # <-- Replace with your audio file path or upload via Colab Files\n",
        "print(\"🎧 Set AUDIO_PATH to:\", AUDIO_PATH)\n"
      ],
      "metadata": {
        "id": "DiWb9dOm88ZN",
        "colab": {
          "base_uri": "https://localhost:8080/"
        },
        "outputId": "fc2e2728-6d9b-4c21-cde2-f764c21cce96"
      },
      "execution_count": 3,
      "outputs": [
        {
          "output_type": "stream",
          "name": "stdout",
          "text": [
            "🎧 Set AUDIO_PATH to: /content/drive/MyDrive/myquestion.wav\n"
          ]
        }
      ]
    },
    {
      "cell_type": "markdown",
      "source": [
        "\n",
        "# ================================================================\n",
        "# 2️⃣  Speech-to-Text (STT) — Whisper fallback to Google\n",
        "# ================================================================\n"
      ],
      "metadata": {
        "id": "4HpeBqeh7xOW"
      }
    },
    {
      "cell_type": "code",
      "source": [
        "def transcribe(audio_path: str) -> str:\n",
        "    \"\"\"Convert speech → text using Whisper or SpeechRecognition.\"\"\"\n",
        "    try:\n",
        "        import whisper\n",
        "        print(\"Using Whisper for transcription...\")\n",
        "        model = whisper.load_model(\"base\")\n",
        "        result = model.transcribe(audio_path)\n",
        "        return result.get(\"text\", \"\").strip()\n",
        "    except Exception:\n",
        "        print(\"Fallback to Google SpeechRecognition...\")\n",
        "        import speech_recognition as sr\n",
        "        r = sr.Recognizer()\n",
        "        with sr.AudioFile(audio_path) as source:\n",
        "            audio = r.record(source)\n",
        "        return r.recognize_google(audio)\n",
        "\n",
        "print(\"🗣️ Transcription function ready.\")\n"
      ],
      "metadata": {
        "colab": {
          "base_uri": "https://localhost:8080/"
        },
        "id": "UM1G5Tas7x29",
        "outputId": "b3d2dd5c-d19f-4c82-dcaf-f7b5cb9384af"
      },
      "execution_count": 4,
      "outputs": [
        {
          "output_type": "stream",
          "name": "stdout",
          "text": [
            "🗣️ Transcription function ready.\n"
          ]
        }
      ]
    },
    {
      "cell_type": "markdown",
      "source": [
        "# ================================================================\n",
        "# 3️⃣  Project Model — Real-time Stock + Sentiment Q&A\n",
        "# ================================================================\n"
      ],
      "metadata": {
        "id": "3tQuHhHA7_y5"
      }
    },
    {
      "cell_type": "code",
      "source": [
        "\n",
        "# Load small Hugging Face sentiment model\n",
        "sentiment_analyzer = pipeline(\"sentiment-analysis\")\n",
        "\n",
        "def run_llm(prompt: str) -> str:\n",
        "    \"\"\"Simple AI agent that handles live stock data, trends, and sentiment.\"\"\"\n",
        "    prompt = prompt.lower().strip()\n",
        "\n",
        "    # Tickers dictionary\n",
        "    tickers = {\n",
        "        \"apple\": \"AAPL\",\n",
        "        \"microsoft\": \"MSFT\",\n",
        "        \"google\": \"GOOGL\",\n",
        "        \"amazon\": \"AMZN\",\n",
        "        \"tesla\": \"TSLA\"\n",
        "    }\n",
        "\n",
        "    # --- Live Stock Price ---\n",
        "    for name, symbol in tickers.items():\n",
        "        if name in prompt and (\"price\" in prompt or \"value\" in prompt):\n",
        "            try:\n",
        "                data = yf.Ticker(symbol)\n",
        "                price = data.history(period=\"1d\")[\"Close\"].iloc[-1]\n",
        "                return f\"{name.title()}'s latest stock price is about ${price:.2f}.\"\n",
        "            except Exception as e:\n",
        "                return f\"Couldn't fetch {name}'s price: {e}\"\n",
        "\n",
        "    # --- 5-Day Trend ---\n",
        "    for name, symbol in tickers.items():\n",
        "        if name in prompt and \"trend\" in prompt:\n",
        "            try:\n",
        "                data = yf.download(symbol, period=\"5d\", interval=\"1d\", progress=False)\n",
        "                trend = data[\"Close\"].iloc[-1] - data[\"Close\"].iloc[0]\n",
        "                direction = \"upward 📈\" if trend > 0 else \"downward 📉\"\n",
        "                return f\"In the past 5 days, {name.title()} shows a {direction} trend of {trend:.2f} USD.\"\n",
        "            except Exception as e:\n",
        "                return f\"Trend check failed for {name}: {e}\"\n",
        "\n",
        "    # --- News Sentiment ---\n",
        "    for name, symbol in tickers.items():\n",
        "        if name in prompt and \"sentiment\" in prompt:\n",
        "            try:\n",
        "                data = yf.Ticker(symbol)\n",
        "                news = data.news[:5]  # latest 5 headlines\n",
        "                headlines = [n[\"title\"] for n in news]\n",
        "                sentiments = sentiment_analyzer(headlines)\n",
        "                pos = sum(1 for s in sentiments if s[\"label\"] == \"POSITIVE\")\n",
        "                neg = sum(1 for s in sentiments if s[\"label\"] == \"NEGATIVE\")\n",
        "                overall = \"positive 😊\" if pos > neg else \"negative 😟\"\n",
        "                return f\"Recent news sentiment for {name.title()} appears {overall} ({pos} positive vs {neg} negative).\"\n",
        "            except Exception as e:\n",
        "                return f\"Couldn't analyze sentiment for {name}: {e}\"\n",
        "\n",
        "    # --- Generic / Fallback ---\n",
        "    replies = {\n",
        "        \"forecast\": \"Overall sentiment is cautiously optimistic for this week.\",\n",
        "        \"summary\": \"Tech stocks show mild positive momentum; energy remains neutral.\",\n",
        "        \"agent\": \"This local AI agent integrates live data and sentiment from Yahoo Finance.\"\n",
        "    }\n",
        "    for key, val in replies.items():\n",
        "        if key in prompt:\n",
        "            return val\n",
        "\n",
        "    return random.choice([\n",
        "        \"The market remains steady with moderate daily changes.\",\n",
        "        \"Investors are focusing on upcoming earnings reports.\",\n",
        "        \"Volatility is slightly below average today.\"\n",
        "    ])\n",
        "\n",
        "print(\"🤖 Project model ready.\")"
      ],
      "metadata": {
        "colab": {
          "base_uri": "https://localhost:8080/",
          "height": 344,
          "referenced_widgets": [
            "4c0ec3ff5f2d4f58b0d85c0451604127",
            "0c4e942d91214a03947edd6f29c04113",
            "1ba893d8e1fb471ca3dd97cf1c200033",
            "c9072e87f260402dbee8b785709e6a6f",
            "667b5cced9eb43b88907120c3a06f0a7",
            "95444f16daa449b5991b8f9998dbeab1",
            "6ff0f7b356a64d62a7f1085e707ea5bf",
            "ad2fb226e20546ee8ea0f3ad97614d59",
            "4273fa7953e34e38b25a484ccb9400df",
            "a233aea646a24226978c4a68920cef87",
            "e09c506365f741f2b58568742d5d9978",
            "2d3b93f2e97341b1909dc3986c50cd0b",
            "ca8f6c8366c3438d87ef6d787cef7202",
            "49e10be6233c486a86a88bd5298b353e",
            "24b3118f59834b30b5864dd0e3b60958",
            "24881e07e50748fd91d17543b73786fb",
            "a40f758e21774f33949f39d5ce6c670d",
            "3bc73aa54d3c46c4b4029d807f5efb46",
            "dda9753408914a79ba70e008ca3ca20b",
            "8578743d85ae4d6986b4bb45f70b2489",
            "d09e03a6c30c488eab0a055fd60896c1",
            "15d2c976d3374698a2ca0a3e6580166d",
            "b2dab32278864b40a9946d01e943367d",
            "b563bd31b8274abfb97aa3deb481bca5",
            "929fd40a079f4d15b7cf07fafdc95d46",
            "1f313fef3f134de39dbbaae587896459",
            "52f250c0b0424a85a135b18e21b9c929",
            "e7e4fc15089742f9aa1c2e28f66357ba",
            "8a4d6d6eb0f14072813ba8da84df9837",
            "28ccb8c2e264429b9e55cca38adc06f9",
            "ed2f210fd3fe4267bb820651ef09bfe9",
            "3a80693e92e7419e95f3e8fe234115aa",
            "afb945e41390415a9067ce22eeb84f92",
            "692b1ceeae3a470b9de026dc288dc64b",
            "97e91d32f1354e42a18aad2d4c1ce5d3",
            "1844c56dc7cc41f0b77f7b17bc5e4dfe",
            "d63add7ef1214203a9d376501b7122a6",
            "10ec110f42f440e9981f8d7758b23d02",
            "b9deacc293b44d468726973ccdf52f32",
            "b3113cd9c24e4a3c9f62aa4b004c57af",
            "612528664f774f0b9ab8b8aff6bfc1d2",
            "0a3a87062fe44a5cb090b63e840804a5",
            "8eebde2956144ee2889e44c8652dbe16",
            "0f0ee69d2cb24b43a2e28f2afe0891e4"
          ]
        },
        "id": "ZPDM7Mz38AWP",
        "outputId": "0dee8b97-3555-470a-9794-05e04a65dcf3"
      },
      "execution_count": 5,
      "outputs": [
        {
          "output_type": "stream",
          "name": "stderr",
          "text": [
            "No model was supplied, defaulted to distilbert/distilbert-base-uncased-finetuned-sst-2-english and revision 714eb0f (https://huggingface.co/distilbert/distilbert-base-uncased-finetuned-sst-2-english).\n",
            "Using a pipeline without specifying a model name and revision in production is not recommended.\n",
            "/usr/local/lib/python3.12/dist-packages/huggingface_hub/utils/_auth.py:94: UserWarning: \n",
            "The secret `HF_TOKEN` does not exist in your Colab secrets.\n",
            "To authenticate with the Hugging Face Hub, create a token in your settings tab (https://huggingface.co/settings/tokens), set it as secret in your Google Colab and restart your session.\n",
            "You will be able to reuse this secret in all of your notebooks.\n",
            "Please note that authentication is recommended but still optional to access public models or datasets.\n",
            "  warnings.warn(\n"
          ]
        },
        {
          "output_type": "display_data",
          "data": {
            "text/plain": [
              "config.json:   0%|          | 0.00/629 [00:00<?, ?B/s]"
            ],
            "application/vnd.jupyter.widget-view+json": {
              "version_major": 2,
              "version_minor": 0,
              "model_id": "4c0ec3ff5f2d4f58b0d85c0451604127"
            }
          },
          "metadata": {}
        },
        {
          "output_type": "display_data",
          "data": {
            "text/plain": [
              "model.safetensors:   0%|          | 0.00/268M [00:00<?, ?B/s]"
            ],
            "application/vnd.jupyter.widget-view+json": {
              "version_major": 2,
              "version_minor": 0,
              "model_id": "2d3b93f2e97341b1909dc3986c50cd0b"
            }
          },
          "metadata": {}
        },
        {
          "output_type": "display_data",
          "data": {
            "text/plain": [
              "tokenizer_config.json:   0%|          | 0.00/48.0 [00:00<?, ?B/s]"
            ],
            "application/vnd.jupyter.widget-view+json": {
              "version_major": 2,
              "version_minor": 0,
              "model_id": "b2dab32278864b40a9946d01e943367d"
            }
          },
          "metadata": {}
        },
        {
          "output_type": "display_data",
          "data": {
            "text/plain": [
              "vocab.txt: 0.00B [00:00, ?B/s]"
            ],
            "application/vnd.jupyter.widget-view+json": {
              "version_major": 2,
              "version_minor": 0,
              "model_id": "692b1ceeae3a470b9de026dc288dc64b"
            }
          },
          "metadata": {}
        },
        {
          "output_type": "stream",
          "name": "stderr",
          "text": [
            "Device set to use cuda:0\n"
          ]
        },
        {
          "output_type": "stream",
          "name": "stdout",
          "text": [
            "🤖 Project model ready.\n"
          ]
        }
      ]
    },
    {
      "cell_type": "markdown",
      "source": [
        "# ================================================================\n",
        "# 4️⃣  Text-to-Speech (TTS) — using gTTS\n",
        "# ================================================================\n"
      ],
      "metadata": {
        "id": "2khFSYsm88C1"
      }
    },
    {
      "cell_type": "code",
      "source": [
        "def synthesize_tts(text: str, out_path=\"reply.mp3\") -> str:\n",
        "    \"\"\"Convert text → speech and save to MP3.\"\"\"\n",
        "    try:\n",
        "        from gtts import gTTS\n",
        "        gTTS(text).save(out_path)\n",
        "        return out_path\n",
        "    except Exception as e:\n",
        "        print(\"TTS failed:\", e)\n",
        "        return \"\"\n",
        "\n",
        "print(\"🔊 TTS ready.\")\n"
      ],
      "metadata": {
        "colab": {
          "base_uri": "https://localhost:8080/"
        },
        "id": "XdmMd4X58yc9",
        "outputId": "44a08546-a918-45f2-dade-ba1131d51072"
      },
      "execution_count": 6,
      "outputs": [
        {
          "output_type": "stream",
          "name": "stdout",
          "text": [
            "🔊 TTS ready.\n"
          ]
        }
      ]
    },
    {
      "cell_type": "markdown",
      "source": [
        "\n",
        "# ================================================================\n",
        "# 5️⃣  End-to-End Demo\n",
        "# ================================================================\n"
      ],
      "metadata": {
        "id": "8saetrWO9Ee0"
      }
    },
    {
      "cell_type": "code",
      "source": [
        "try:\n",
        "    print(\"🎬 Starting end-to-end demo...\")\n",
        "    text = transcribe(AUDIO_PATH)\n",
        "    print(\"USER:\", text)\n",
        "\n",
        "    answer = run_llm(text)\n",
        "    print(\"MODEL:\", answer)\n",
        "\n",
        "    synth_path = synthesize_tts(answer)\n",
        "    print(\"✅ Audio reply saved to:\", synth_path)\n",
        "\n",
        "    # Optional: play audio inside Colab\n",
        "    from IPython.display import Audio\n",
        "    display(Audio(synth_path, autoplay=True))\n",
        "\n",
        "except Exception as e:\n",
        "    print(\"Demo error:\", e)"
      ],
      "metadata": {
        "colab": {
          "base_uri": "https://localhost:8080/",
          "height": 182
        },
        "id": "KvnX7R1v9SlR",
        "outputId": "cb664345-94e6-446b-c18d-5e76dca88365"
      },
      "execution_count": 7,
      "outputs": [
        {
          "output_type": "stream",
          "name": "stdout",
          "text": [
            "🎬 Starting end-to-end demo...\n",
            "Using Whisper for transcription...\n"
          ]
        },
        {
          "output_type": "stream",
          "name": "stderr",
          "text": [
            "100%|████████████████████████████████████████| 139M/139M [00:00<00:00, 268MiB/s]\n"
          ]
        },
        {
          "output_type": "stream",
          "name": "stdout",
          "text": [
            "USER: What's the current price of Apple stock?\n",
            "MODEL: Apple's latest stock price is about $258.21.\n",
            "✅ Audio reply saved to: reply.mp3\n"
          ]
        },
        {
          "output_type": "display_data",
          "data": {
            "text/plain": [
              "<IPython.lib.display.Audio object>"
            ],
            "text/html": [
              "\n",
              "                <audio  controls=\"controls\" autoplay=\"autoplay\">\n",
              "                    <source src=\"data:audio/mpeg;base64,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\" type=\"audio/mpeg\" />\n",
              "                    Your browser does not support the audio element.\n",
              "                </audio>\n",
              "              "
            ]
          },
          "metadata": {}
        }
      ]
    }
  ]
}