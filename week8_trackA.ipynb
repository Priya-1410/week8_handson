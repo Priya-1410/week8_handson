{
  "nbformat": 4,
  "nbformat_minor": 0,
  "metadata": {
    "colab": {
      "provenance": []
    },
    "kernelspec": {
      "name": "python3",
      "display_name": "Python 3"
    },
    "language_info": {
      "name": "python"
    }
  },
  "cells": [
    {
      "cell_type": "markdown",
      "source": [
        "#Track_A"
      ],
      "metadata": {
        "id": "iDixcLetV6n7"
      }
    },
    {
      "cell_type": "code",
      "execution_count": null,
      "metadata": {
        "colab": {
          "base_uri": "https://localhost:8080/"
        },
        "id": "VbKp2c848kyo",
        "outputId": "da411ce8-aa64-4202-8110-f9d6330a7a2d"
      },
      "outputs": [
        {
          "output_type": "stream",
          "name": "stdout",
          "text": [
            "\u001b[?25l     \u001b[90m━━━━━━━━━━━━━━━━━━━━━━━━━━━━━━━━━━━━━━━━\u001b[0m \u001b[32m0.0/803.2 kB\u001b[0m \u001b[31m?\u001b[0m eta \u001b[36m-:--:--\u001b[0m\r\u001b[2K     \u001b[91m━━━━━━━━━━━━━━━━━━━━━━━━━━━━━━━━━━━━━\u001b[0m\u001b[91m╸\u001b[0m \u001b[32m798.7/803.2 kB\u001b[0m \u001b[31m24.5 MB/s\u001b[0m eta \u001b[36m0:00:01\u001b[0m\r\u001b[2K     \u001b[90m━━━━━━━━━━━━━━━━━━━━━━━━━━━━━━━━━━━━━━\u001b[0m \u001b[32m803.2/803.2 kB\u001b[0m \u001b[31m18.6 MB/s\u001b[0m eta \u001b[36m0:00:00\u001b[0m\n",
            "\u001b[?25h  Installing build dependencies ... \u001b[?25l\u001b[?25hdone\n",
            "  Getting requirements to build wheel ... \u001b[?25l\u001b[?25hdone\n",
            "  Preparing metadata (pyproject.toml) ... \u001b[?25l\u001b[?25hdone\n",
            "\u001b[2K   \u001b[90m━━━━━━━━━━━━━━━━━━━━━━━━━━━━━━━━━━━━━━━━\u001b[0m \u001b[32m32.9/32.9 MB\u001b[0m \u001b[31m80.8 MB/s\u001b[0m eta \u001b[36m0:00:00\u001b[0m\n",
            "\u001b[2K   \u001b[90m━━━━━━━━━━━━━━━━━━━━━━━━━━━━━━━━━━━━━━━━\u001b[0m \u001b[32m98.2/98.2 kB\u001b[0m \u001b[31m10.7 MB/s\u001b[0m eta \u001b[36m0:00:00\u001b[0m\n",
            "\u001b[?25h  Building wheel for openai-whisper (pyproject.toml) ... \u001b[?25l\u001b[?25hdone\n"
          ]
        }
      ],
      "source": [
        "# --- Install dependencies ---\n",
        "!pip -q install SpeechRecognition pydub gTTS soundfile yfinance transformers torch openai-whisper\n"
      ]
    },
    {
      "cell_type": "code",
      "source": [
        " #--- Imports ---\n",
        "import os, io, time, random, datetime, re\n",
        "from typing import Optional\n",
        "import yfinance as yf\n",
        "import pandas as pd\n",
        "from transformers import pipeline"
      ],
      "metadata": {
        "id": "P6BZK8KV8xyb"
      },
      "execution_count": null,
      "outputs": []
    },
    {
      "cell_type": "markdown",
      "source": [
        "# ================================================================\n",
        "# 1️⃣  Load / Record Audio\n",
        "# ================================================================\n"
      ],
      "metadata": {
        "id": "FeGMysuz9Gsd"
      }
    },
    {
      "cell_type": "code",
      "source": [
        "AUDIO_PATH = \"/content/drive/MyDrive/myquestion.wav\"  # <-- Replace with your audio file path or upload via Colab Files\n",
        "print(\"🎧 Set AUDIO_PATH to:\", AUDIO_PATH)\n"
      ],
      "metadata": {
        "id": "DiWb9dOm88ZN",
        "colab": {
          "base_uri": "https://localhost:8080/"
        },
        "outputId": "a49c7996-5b1c-4645-de62-40850c723756"
      },
      "execution_count": null,
      "outputs": [
        {
          "output_type": "stream",
          "name": "stdout",
          "text": [
            "🎧 Set AUDIO_PATH to: /content/drive/MyDrive/myquestion.wav\n"
          ]
        }
      ]
    },
    {
      "cell_type": "markdown",
      "source": [
        "\n",
        "# ================================================================\n",
        "# 2️⃣  Speech-to-Text (STT) — Whisper fallback to Google\n",
        "# ================================================================\n"
      ],
      "metadata": {
        "id": "4HpeBqeh7xOW"
      }
    },
    {
      "cell_type": "code",
      "source": [
        "def transcribe(audio_path: str) -> str:\n",
        "    \"\"\"Convert speech → text using Whisper or SpeechRecognition.\"\"\"\n",
        "    try:\n",
        "        import whisper\n",
        "        print(\"Using Whisper for transcription...\")\n",
        "        model = whisper.load_model(\"base\")\n",
        "        result = model.transcribe(audio_path)\n",
        "        return result.get(\"text\", \"\").strip()\n",
        "    except Exception:\n",
        "        print(\"Fallback to Google SpeechRecognition...\")\n",
        "        import speech_recognition as sr\n",
        "        r = sr.Recognizer()\n",
        "        with sr.AudioFile(audio_path) as source:\n",
        "            audio = r.record(source)\n",
        "        return r.recognize_google(audio)\n",
        "\n",
        "print(\"🗣️ Transcription function ready.\")\n"
      ],
      "metadata": {
        "colab": {
          "base_uri": "https://localhost:8080/"
        },
        "id": "UM1G5Tas7x29",
        "outputId": "a3e2497a-5b8d-452f-b997-b5ffd4f85fec"
      },
      "execution_count": null,
      "outputs": [
        {
          "output_type": "stream",
          "name": "stdout",
          "text": [
            "🗣️ Transcription function ready.\n"
          ]
        }
      ]
    },
    {
      "cell_type": "markdown",
      "source": [
        "# ================================================================\n",
        "# 3️⃣  Project Model — Real-time Stock + Sentiment Q&A\n",
        "# ================================================================\n"
      ],
      "metadata": {
        "id": "3tQuHhHA7_y5"
      }
    },
    {
      "cell_type": "code",
      "source": [
        "\n",
        "# Load small Hugging Face sentiment model\n",
        "sentiment_analyzer = pipeline(\"sentiment-analysis\")\n",
        "\n",
        "def run_llm(prompt: str) -> str:\n",
        "    \"\"\"Simple AI agent that handles live stock data, trends, and sentiment.\"\"\"\n",
        "    prompt = prompt.lower().strip()\n",
        "\n",
        "    # Tickers dictionary\n",
        "    tickers = {\n",
        "        \"apple\": \"AAPL\",\n",
        "        \"microsoft\": \"MSFT\",\n",
        "        \"google\": \"GOOGL\",\n",
        "        \"amazon\": \"AMZN\",\n",
        "        \"tesla\": \"TSLA\"\n",
        "    }\n",
        "\n",
        "    # --- Live Stock Price ---\n",
        "    for name, symbol in tickers.items():\n",
        "        if name in prompt and (\"price\" in prompt or \"value\" in prompt):\n",
        "            try:\n",
        "                data = yf.Ticker(symbol)\n",
        "                price = data.history(period=\"1d\")[\"Close\"].iloc[-1]\n",
        "                return f\"{name.title()}'s latest stock price is about ${price:.2f}.\"\n",
        "            except Exception as e:\n",
        "                return f\"Couldn't fetch {name}'s price: {e}\"\n",
        "\n",
        "    # --- 5-Day Trend ---\n",
        "    for name, symbol in tickers.items():\n",
        "        if name in prompt and \"trend\" in prompt:\n",
        "            try:\n",
        "                data = yf.download(symbol, period=\"5d\", interval=\"1d\", progress=False)\n",
        "                trend = data[\"Close\"].iloc[-1] - data[\"Close\"].iloc[0]\n",
        "                direction = \"upward 📈\" if trend > 0 else \"downward 📉\"\n",
        "                return f\"In the past 5 days, {name.title()} shows a {direction} trend of {trend:.2f} USD.\"\n",
        "            except Exception as e:\n",
        "                return f\"Trend check failed for {name}: {e}\"\n",
        "\n",
        "    # --- News Sentiment ---\n",
        "    for name, symbol in tickers.items():\n",
        "        if name in prompt and \"sentiment\" in prompt:\n",
        "            try:\n",
        "                data = yf.Ticker(symbol)\n",
        "                news = data.news[:5]  # latest 5 headlines\n",
        "                headlines = [n[\"title\"] for n in news]\n",
        "                sentiments = sentiment_analyzer(headlines)\n",
        "                pos = sum(1 for s in sentiments if s[\"label\"] == \"POSITIVE\")\n",
        "                neg = sum(1 for s in sentiments if s[\"label\"] == \"NEGATIVE\")\n",
        "                overall = \"positive 😊\" if pos > neg else \"negative 😟\"\n",
        "                return f\"Recent news sentiment for {name.title()} appears {overall} ({pos} positive vs {neg} negative).\"\n",
        "            except Exception as e:\n",
        "                return f\"Couldn't analyze sentiment for {name}: {e}\"\n",
        "\n",
        "    # --- Generic / Fallback ---\n",
        "    replies = {\n",
        "        \"forecast\": \"Overall sentiment is cautiously optimistic for this week.\",\n",
        "        \"summary\": \"Tech stocks show mild positive momentum; energy remains neutral.\",\n",
        "        \"agent\": \"This local AI agent integrates live data and sentiment from Yahoo Finance.\"\n",
        "    }\n",
        "    for key, val in replies.items():\n",
        "        if key in prompt:\n",
        "            return val\n",
        "\n",
        "    return random.choice([\n",
        "        \"The market remains steady with moderate daily changes.\",\n",
        "        \"Investors are focusing on upcoming earnings reports.\",\n",
        "        \"Volatility is slightly below average today.\"\n",
        "    ])\n",
        "\n",
        "print(\"🤖 Project model ready.\")"
      ],
      "metadata": {
        "colab": {
          "base_uri": "https://localhost:8080/",
          "height": 344,
          "referenced_widgets": [
            "cdf5dda08e774fe0a4a35dcb78d35cb5",
            "b6013f43a249414aa521a6272b008392",
            "c8e5e7d919864d2b837acef0a3b418eb",
            "199dd4f69ae44403b5da62150ff73103",
            "4a30ca0093064595b98fb54325260b79",
            "d46ad88eef0f4be9b50cf7b244ef9ceb",
            "8d7e307e255449109c2129b6555af2b8",
            "f918af7be60d4619bf29df638de5ceca",
            "4e7d11fd06024bab99357f49b1584b1f",
            "9fa13e9d0a7a49f5b1d8a8965924063e",
            "a6421b8368f24796aa97fa28ab7b1637",
            "de7615db6ceb4578a19300f8ddb49e11",
            "b8a5c8115388492b82a030753dc8017d",
            "e1665492e9bc428893f77c7a95f6b0e4",
            "326ae6e65af149eeb1900555c37e1615",
            "5c0bf9014ced4e129ea543ed667034b9",
            "9f5d45c5ee024bf7b6de66b209d2e6e8",
            "1a975f4c0c844dc386d02ba58ecf813a",
            "ecb6410be74e4f52ab5392e16500ced9",
            "fe98680122e5402fa04c1baaff62faad",
            "26401032898f47979ff98b10130d1d84",
            "e9cfa32d99874021a89cc0fa1494ac3d",
            "b65a869e371141bdb58570255c4655fc",
            "b0c9292093d142e48556fac8bc608abf",
            "7bdad182163545f0a072348196939afa",
            "a96f3473eebc47ac9c7fb2215f09f96e",
            "4c94d6d56b6f4f5da28dffe1ed11610a",
            "e948c52fe29a40c1ad4d5f2256038021",
            "0154d3b719e7486a8cb675657e07a5e5",
            "c50a4ac1485c46d9b589143ae093c409",
            "71aed4877b4b4c6d91847722fe85c5b7",
            "93c4ee028cc54aa1a638eee4b099308f",
            "8a5a04df0c93416299107c400955954c",
            "b201c6c6bc314cc0accf8259c31d2cf8",
            "ffa9378bd0eb40eaa40dbc94375ba4e2",
            "b4514a1d00044225912a608173d6ec1d",
            "0b3d546653104c3e8f34cd1564a8f825",
            "6107404a145446448f2903dfee2c6f29",
            "c6f839bf3cf9442c8b5015f81d1e1ddb",
            "268173770c33441e8c74006853b0a092",
            "e1f3ee1cca9946ac9385ae7a0d0447d2",
            "e9bfb4b136f74f898eacb8c3152a3867",
            "fe55b935e7c44c6fa0db851422e6049e",
            "ea36455a07814d8b98f12651349fc955"
          ]
        },
        "id": "ZPDM7Mz38AWP",
        "outputId": "102bd138-feb2-4b42-9282-44034387f0d3"
      },
      "execution_count": null,
      "outputs": [
        {
          "output_type": "stream",
          "name": "stderr",
          "text": [
            "No model was supplied, defaulted to distilbert/distilbert-base-uncased-finetuned-sst-2-english and revision 714eb0f (https://huggingface.co/distilbert/distilbert-base-uncased-finetuned-sst-2-english).\n",
            "Using a pipeline without specifying a model name and revision in production is not recommended.\n",
            "/usr/local/lib/python3.12/dist-packages/huggingface_hub/utils/_auth.py:94: UserWarning: \n",
            "The secret `HF_TOKEN` does not exist in your Colab secrets.\n",
            "To authenticate with the Hugging Face Hub, create a token in your settings tab (https://huggingface.co/settings/tokens), set it as secret in your Google Colab and restart your session.\n",
            "You will be able to reuse this secret in all of your notebooks.\n",
            "Please note that authentication is recommended but still optional to access public models or datasets.\n",
            "  warnings.warn(\n"
          ]
        },
        {
          "output_type": "display_data",
          "data": {
            "text/plain": [
              "config.json:   0%|          | 0.00/629 [00:00<?, ?B/s]"
            ],
            "application/vnd.jupyter.widget-view+json": {
              "version_major": 2,
              "version_minor": 0,
              "model_id": "cdf5dda08e774fe0a4a35dcb78d35cb5"
            }
          },
          "metadata": {}
        },
        {
          "output_type": "display_data",
          "data": {
            "text/plain": [
              "model.safetensors:   0%|          | 0.00/268M [00:00<?, ?B/s]"
            ],
            "application/vnd.jupyter.widget-view+json": {
              "version_major": 2,
              "version_minor": 0,
              "model_id": "de7615db6ceb4578a19300f8ddb49e11"
            }
          },
          "metadata": {}
        },
        {
          "output_type": "display_data",
          "data": {
            "text/plain": [
              "tokenizer_config.json:   0%|          | 0.00/48.0 [00:00<?, ?B/s]"
            ],
            "application/vnd.jupyter.widget-view+json": {
              "version_major": 2,
              "version_minor": 0,
              "model_id": "b65a869e371141bdb58570255c4655fc"
            }
          },
          "metadata": {}
        },
        {
          "output_type": "display_data",
          "data": {
            "text/plain": [
              "vocab.txt: 0.00B [00:00, ?B/s]"
            ],
            "application/vnd.jupyter.widget-view+json": {
              "version_major": 2,
              "version_minor": 0,
              "model_id": "b201c6c6bc314cc0accf8259c31d2cf8"
            }
          },
          "metadata": {}
        },
        {
          "output_type": "stream",
          "name": "stderr",
          "text": [
            "Device set to use cuda:0\n"
          ]
        },
        {
          "output_type": "stream",
          "name": "stdout",
          "text": [
            "🤖 Project model ready.\n"
          ]
        }
      ]
    },
    {
      "cell_type": "markdown",
      "source": [
        "# ================================================================\n",
        "# 4️⃣  Text-to-Speech (TTS) — using gTTS\n",
        "# ================================================================\n"
      ],
      "metadata": {
        "id": "2khFSYsm88C1"
      }
    },
    {
      "cell_type": "code",
      "source": [
        "def synthesize_tts(text: str, out_path=\"reply.mp3\") -> str:\n",
        "    \"\"\"Convert text → speech and save to MP3.\"\"\"\n",
        "    try:\n",
        "        from gtts import gTTS\n",
        "        gTTS(text).save(out_path)\n",
        "        return out_path\n",
        "    except Exception as e:\n",
        "        print(\"TTS failed:\", e)\n",
        "        return \"\"\n",
        "\n",
        "print(\"🔊 TTS ready.\")\n"
      ],
      "metadata": {
        "colab": {
          "base_uri": "https://localhost:8080/"
        },
        "id": "XdmMd4X58yc9",
        "outputId": "f23a4e51-bd16-4c64-b379-60f3aacc4411"
      },
      "execution_count": null,
      "outputs": [
        {
          "output_type": "stream",
          "name": "stdout",
          "text": [
            "🔊 TTS ready.\n"
          ]
        }
      ]
    },
    {
      "cell_type": "markdown",
      "source": [
        "\n",
        "# ================================================================\n",
        "# 5️⃣  End-to-End Demo\n",
        "# ================================================================\n"
      ],
      "metadata": {
        "id": "8saetrWO9Ee0"
      }
    },
    {
      "cell_type": "code",
      "source": [
        "try:\n",
        "    print(\"🎬 Starting end-to-end demo...\")\n",
        "    text = transcribe(AUDIO_PATH)\n",
        "    print(\"USER:\", text)\n",
        "\n",
        "    answer = run_llm(text)\n",
        "    print(\"MODEL:\", answer)\n",
        "\n",
        "    synth_path = synthesize_tts(answer)\n",
        "    print(\"✅ Audio reply saved to:\", synth_path)\n",
        "\n",
        "    # Optional: play audio inside Colab\n",
        "    from IPython.display import Audio\n",
        "    display(Audio(synth_path, autoplay=True))\n",
        "\n",
        "except Exception as e:\n",
        "    print(\"Demo error:\", e)"
      ],
      "metadata": {
        "colab": {
          "base_uri": "https://localhost:8080/",
          "height": 182
        },
        "id": "KvnX7R1v9SlR",
        "outputId": "b265a056-2515-428e-c228-5b7bc6f42f9b"
      },
      "execution_count": null,
      "outputs": [
        {
          "output_type": "stream",
          "name": "stdout",
          "text": [
            "🎬 Starting end-to-end demo...\n",
            "Using Whisper for transcription...\n"
          ]
        },
        {
          "output_type": "stream",
          "name": "stderr",
          "text": [
            "100%|███████████████████████████████████████| 139M/139M [00:01<00:00, 72.9MiB/s]\n"
          ]
        },
        {
          "output_type": "stream",
          "name": "stdout",
          "text": [
            "USER: What's the current price of Apple stock?\n",
            "MODEL: Apple's latest stock price is about $263.29.\n",
            "✅ Audio reply saved to: reply.mp3\n"
          ]
        },
        {
          "output_type": "display_data",
          "data": {
            "text/plain": [
              "<IPython.lib.display.Audio object>"
            ],
            "text/html": [
              "\n",
              "                <audio  controls=\"controls\" autoplay=\"autoplay\">\n",
              "                    <source src=\"data:audio/mpeg;base64,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\" type=\"audio/mpeg\" />\n",
              "                    Your browser does not support the audio element.\n",
              "                </audio>\n",
              "              "
            ]
          },
          "metadata": {}
        }
      ]
    }
  ]
}